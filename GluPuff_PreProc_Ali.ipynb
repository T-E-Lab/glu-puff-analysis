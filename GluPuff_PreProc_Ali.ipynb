{
 "cells": [
  {
   "cell_type": "markdown",
   "id": "92ed5f56-1c44-4419-9cf7-160c039c7d12",
   "metadata": {},
   "source": [
    "# Load the functions"
   ]
  },
  {
   "cell_type": "code",
   "execution_count": 2,
   "id": "fa54a6fc-baa2-452e-ba69-d6882bc7dc39",
   "metadata": {},
   "outputs": [],
   "source": [
    "import src.ImagingPreProc as iPP\n",
    "import src.BehavPreProc as bPP\n",
    "import os\n",
    "from matplotlib import pyplot as plt\n",
    "from matplotlib.patches import Polygon\n",
    "import numpy as np\n",
    "from tkinter.filedialog import askopenfilename, askdirectory, asksaveasfilename\n",
    "\n",
    "import tifffile as tf\n",
    "import napari\n",
    "import pandas as pd\n",
    "import cv2 as cv\n",
    "import tkinter as tk\n",
    "from tkinter import filedialog"
   ]
  },
  {
   "cell_type": "markdown",
   "id": "638156a4-a1da-4d97-a859-558c62e432cf",
   "metadata": {},
   "source": [
    "# Get the trial info"
   ]
  },
  {
   "cell_type": "code",
   "execution_count": null,
   "id": "052e60dc-7563-44f8-9f5f-096162e167bd",
   "metadata": {},
   "outputs": [],
   "source": [
    "# rootDirs = [askdirectory(title=\"Select folder with trial info\")]\n",
    "\n",
    "# print(rootDirs)\n",
    "\n",
    "# trials = iPP.loadTrialInfo(rootDirs)\n",
    "# trials.keys()"
   ]
  },
  {
   "cell_type": "markdown",
   "id": "cec1b1b7-0dba-4402-bf2a-d8d2657b930a",
   "metadata": {},
   "source": [
    "# Process the data!"
   ]
  },
  {
   "cell_type": "code",
   "execution_count": 2,
   "id": "7206632a",
   "metadata": {},
   "outputs": [],
   "source": [
    "def loadTrialInfo(rootDir):\n",
    "    \"\"\"Return a list of all .tif files in the given directory\"\"\"\n",
    "    trials = []\n",
    "    for root, dirs, files in os.walk(rootDir):\n",
    "        # Add tifs to list\n",
    "        for file in files:\n",
    "            if file.split(\".\")[-1] == \"tif\":\n",
    "                filepath = os.path.join(root, file)\n",
    "                trials.append(filepath)\n",
    "        # Remove .oif directories\n",
    "        dirs[:] = [d for d in dirs if \".\".join(d.split('.')[-2:-1]) == \"oif.files\"]\n",
    "\n",
    "    return trials"
   ]
  },
  {
   "cell_type": "code",
   "execution_count": 3,
   "id": "38e9fad1",
   "metadata": {},
   "outputs": [],
   "source": [
    "# trialfileNms = loadTrialInfo(r'C:\\Users\\ahshenas\\Lab\\mockglupuffdata\\Batch4\\tiffs')\n"
   ]
  },
  {
   "cell_type": "code",
   "execution_count": 4,
   "id": "1c4942ec",
   "metadata": {},
   "outputs": [],
   "source": [
    "root = tk.Tk()\n",
    "root.withdraw()\n",
    "root.attributes('-topmost',1)\n",
    "\n",
    "trialfileNms = filedialog.askopenfilenames()"
   ]
  },
  {
   "cell_type": "code",
   "execution_count": null,
   "id": "5f1acae8",
   "metadata": {},
   "outputs": [],
   "source": [
    "# Using files manually converted from .oif to .tif, selecting only the first channel\n",
    "# trialfileNms = [r'C:\\Users\\ahshenas\\Lab\\mockglupuffdata\\PlotForKirsten\\20221230_6s-ss96-wtb_glutpuff_C_02.oif - C=0.tif']"
   ]
  },
  {
   "cell_type": "code",
   "execution_count": 3,
   "id": "86881618",
   "metadata": {},
   "outputs": [],
   "source": [
    "def DFoFfromfirstfms(rawF, fm_interval):\n",
    "    \"\"\" Calculate the DF/F given a raw fluorescence signal\n",
    "    The baseline fluorescence is the mean of first 10 seconds of florescence\n",
    "    Arguments:\n",
    "        rawF = raw fluorescence\n",
    "        fm_interval = frame interval aka time it takes to capture a frame\n",
    "    \"\"\"\n",
    "\n",
    "    # Initialize the array to hold the DF/F data\n",
    "    DF = np.zeros(rawF.shape)\n",
    "\n",
    "    # rawF axes: [frames, rois]\n",
    "    baseline_sec = 10\n",
    "    baseline_end_frame = round(baseline_sec / fm_interval)\n",
    "\n",
    "    # Calculate the DF/F for each ROI\n",
    "    for r in range(0,rawF.shape[1]):\n",
    "        Fbaseline = rawF[0:baseline_end_frame, r].mean()\n",
    "        DF[:,r] = rawF[:,r]/Fbaseline-1\n",
    "\n",
    "    \n",
    "    return DF"
   ]
  },
  {
   "cell_type": "code",
   "execution_count": 4,
   "id": "9c96b7b4",
   "metadata": {},
   "outputs": [],
   "source": [
    "def parseDate(filePath):\n",
    "    \"\"\"Given a name of the format path\\\\{date}_{flyline}-glutpuff_{trial num}.tif \n",
    "    (ex: path\\\\20221208_6s-ss96-glutpuff_01.tif)\n",
    "    Return the date\"\"\"\n",
    "    fileNm = filePath.split(\"\\\\\")[-1]\n",
    "    date = fileNm.split(\"_\")[0]\n",
    "    return date\n"
   ]
  },
  {
   "cell_type": "code",
   "execution_count": 5,
   "id": "511385ea-e65a-479f-8228-7eb5a9f5e953",
   "metadata": {
    "scrolled": false
   },
   "outputs": [
    {
     "name": "stdout",
     "output_type": "stream",
     "text": [
      "Select name to save the preprocessed datatestpreproc\n",
      "C:/Users/ahshenas/Lab/mockglupuffdata/20221208_6s-ss96-glutpuff_01.tif\n",
      "stack shape: (1, 117, 2, 256, 256)\n",
      "C:\\Users\\ahshenas\\Anaconda3\\envs\\testenv\\lib\\site-packages\\napari\\layers\\base\\base.py:1632: RuntimeWarning: invalid value encountered in cast!\n",
      "C:\\Users\\ahshenas\\Anaconda3\\envs\\testenv\\lib\\site-packages\\napari\\layers\\base\\base.py:1632: RuntimeWarning: invalid value encountered in cast!\n",
      "rawF.shape = (117, 12)\n",
      "DF_G.shape = (117, 12)\n"
     ]
    }
   ],
   "source": [
    "# fileNm = asksaveasfilename(title=\"Save Data as\")\n",
    "\n",
    "\n",
    "# for expt in trials.keys():\n",
    "#     # os.path.join(\"C:\", os.sep, \"Users\", \"Ali Shenasa\", \"Lab\", \"VT48352\", \"20190211\", \"Fly2_3days_7fxVT48352\")\n",
    "#     # '/Users/dante/Downloads/VT48352/20190211/Fly2_3days_7fxVT48352'\n",
    "#     if expt == os.path.join(\"C:\", os.sep, \"Users\", \"Ali Shenasa\", \"Lab\", \"VT48352\", \"20190211\", \"Fly2_3days_7fxVT48352\"):\n",
    "#         continue\n",
    "expt = input(\"Select name to save the preprocessed data\") #\"PlotForKirstenBatch2\" #trialfileNms[0].split(\"/\")[-1].split(\".\")[0]\n",
    "\n",
    "outfileNm = f'C:/Users/ahshenas/Lab/mockglupuffdata/results/{expt}'\n",
    "expt_dat = dict()\n",
    "for i, trial in enumerate(trialfileNms):\n",
    "    print(trial)\n",
    "\n",
    "    # Load the stack\n",
    "    [stack, nCh, nDiscardFBFrames, fpv] = iPP.loadTif(trial)\n",
    "    print(f\"stack shape: {stack.shape}\")\n",
    "\n",
    "    # Get frame interval (time between frames)\n",
    "    with tf.TiffFile(trial) as tif:\n",
    "        imagej_metadata = tif.imagej_metadata\n",
    "        fm_interval = float(imagej_metadata.get(\"finterval\"))\n",
    "\n",
    "\n",
    "    frameidx = 1 # index of stack shape with frames\n",
    "    ch = 0 # channel to be used\n",
    "\n",
    "    # Select the first channel\n",
    "    # Stack axes [Z?, frame, channel, X, Y]\n",
    "    stack = stack[:,:,ch:ch+1,:,:]\n",
    "\n",
    "    ### iPP.getROIs\n",
    "    mean_stack = stack.mean(axis=1) # Axis 0 is of length one so it just returns the whole stack\n",
    "    # Load the mean image in napari\n",
    "    viewer = napari.Viewer()\n",
    "    viewer.add_image(mean_stack)\n",
    "    if (i>0) and (len(rois) > 0):\n",
    "        # TODO if is a new brain, remove the old rois\n",
    "        #   If the dict for the date exists add the rois from that date to napari\n",
    "        viewer.add_shapes(rois, shape_type='Polygon', name = 'Shapes')\n",
    "    napari.run()\n",
    "\n",
    "    # Use the ROIs that were drawn in napari to get image masks\n",
    "    ### iPP.getPolyROIs\n",
    "    # Get the ROIs from napari\n",
    "    rois = viewer.layers['Shapes'].data\n",
    "\n",
    "    shape_x = stack.shape[3]\n",
    "    shape_y =  stack.shape[4]\n",
    "    all_masks = viewer.layers['Shapes'].to_masks(mask_shape=(shape_x,shape_y))\n",
    "\n",
    "\n",
    "    ### iPP.FfromROIs\n",
    "    # Initialize the array to hold the fluorescence data\n",
    "    rawF = np.zeros((stack.shape[frameidx],len(all_masks)))\n",
    "\n",
    "    # Step through each frame in the stack\n",
    "    for fm in range(0,stack.shape[frameidx]):\n",
    "        fmNow = stack[0,fm,ch,:,:]\n",
    "\n",
    "        # print(f\"fmNow.shape: {fmNow.shape}\")\n",
    "        # print(f\"all_masks.shape: {all_masks.shape}\")\n",
    "\n",
    "        # Find the sum of the fluorescence in each ROI for the given frame\n",
    "        for r in range(0,len(all_masks)):\n",
    "            rawF[fm,r] = np.multiply(fmNow, all_masks[r]).sum()\n",
    "\n",
    "    rawF_G = rawF\n",
    "\n",
    "    # Get the DF/F\n",
    "    DF_G = DFoFfromfirstfms(rawF_G, fm_interval)\n",
    "\n",
    "    print(f\"rawF.shape = {rawF.shape}\")\n",
    "    print(f\"DF_G.shape = {DF_G.shape}\")\n",
    "\n",
    "    # Save the processed data\n",
    "    expt_dat[trial] = {'trialName': trial,\n",
    "                        'stack_mean_G': np.squeeze(mean_stack),\n",
    "                        'rawF_G': rawF_G,\n",
    "                        'DF_G': DF_G,\n",
    "                        'all_masks': all_masks,\n",
    "                        'rois': rois,\n",
    "                        'fm_interval': fm_interval,\n",
    "                        }\n",
    "\n",
    "iPP.saveDFDat(outfileNm, expt, expt_dat)"
   ]
  },
  {
   "cell_type": "code",
   "execution_count": null,
   "id": "657cb8f7",
   "metadata": {},
   "outputs": [],
   "source": [
    "print(expt_dat['C:\\\\Users\\\\ahshenas\\\\Lab\\\\mockglupuffdata\\\\PlotForKirstenBatch2\\\\tiffs\\\\20221221_6s-ss96-wtb-glutpuff_04.tif'].keys())"
   ]
  },
  {
   "cell_type": "code",
   "execution_count": null,
   "id": "5e1a8334",
   "metadata": {},
   "outputs": [],
   "source": [
    "print(fm_interval)"
   ]
  },
  {
   "cell_type": "code",
   "execution_count": null,
   "id": "5330f1e4",
   "metadata": {},
   "outputs": [],
   "source": [
    "### Display rois\n",
    "import matplotlib.patheffects as PathEffects\n",
    "\n",
    "plt.figure(figsize=(10, 10))\n",
    "panel = plt.axes([0.1, 0.1, 0.75, 0.75])\n",
    "for t in expt_dat.keys():\n",
    "    print(expt_dat[t]['stack_mean_G'].shape)\n",
    "    panel.imshow(expt_dat[t]['stack_mean_G'])\n",
    "    panel.axis('off')\n",
    "    for j,r in enumerate(expt_dat[t]['rois']):\n",
    "        xidx = 2\n",
    "        yidx = 3\n",
    "        panel.add_patch(Polygon([[pt[yidx],pt[xidx]] for pt in r], closed=True,fill=False, edgecolor = (1,1,1,0.5)))\n",
    "        panel.text(r[:,yidx].mean(), r[:,xidx].mean(),str(j+1),dict(ha='center', va='center', fontsize=5, color='w'))\n",
    "    break"
   ]
  },
  {
   "cell_type": "code",
   "execution_count": null,
   "id": "654ea612",
   "metadata": {},
   "outputs": [],
   "source": [
    "for roi in rois:\n",
    "    print(roi.shape)\n",
    "print(rois[0])"
   ]
  },
  {
   "cell_type": "code",
   "execution_count": null,
   "id": "4a9acce5",
   "metadata": {},
   "outputs": [],
   "source": [
    "print(all_masks[0].shape)"
   ]
  },
  {
   "cell_type": "code",
   "execution_count": null,
   "id": "0c4afb57",
   "metadata": {},
   "outputs": [],
   "source": [
    "print(stack.shape)\n",
    "print(mean_stack.shape)"
   ]
  },
  {
   "cell_type": "code",
   "execution_count": null,
   "id": "be9520e2",
   "metadata": {},
   "outputs": [],
   "source": [
    "print(DF_G)"
   ]
  },
  {
   "cell_type": "code",
   "execution_count": null,
   "id": "f599491f",
   "metadata": {},
   "outputs": [],
   "source": [
    "print(stack.shape)\n",
    "print(stack[:,:,0,:,:].shape)\n",
    "print(np.squeeze(stack).shape)"
   ]
  },
  {
   "cell_type": "code",
   "execution_count": null,
   "id": "75d7507b",
   "metadata": {},
   "outputs": [],
   "source": [
    "print(all_masks.shape)"
   ]
  },
  {
   "cell_type": "code",
   "execution_count": null,
   "id": "a984cd77",
   "metadata": {},
   "outputs": [],
   "source": [
    "print(all_masks['mask'].shape)\n",
    "\n",
    "for x in all_masks['mask']:\n",
    "    print(f\"{x}\", end=\"\\n\")\n",
    "    print(len(x))"
   ]
  },
  {
   "cell_type": "code",
   "execution_count": null,
   "id": "80e72b43",
   "metadata": {},
   "outputs": [],
   "source": [
    "print(rawF_G)"
   ]
  }
 ],
 "metadata": {
  "kernelspec": {
   "display_name": "Python 3 (ipykernel)",
   "language": "python",
   "name": "python3"
  },
  "language_info": {
   "codemirror_mode": {
    "name": "ipython",
    "version": 3
   },
   "file_extension": ".py",
   "mimetype": "text/x-python",
   "name": "python",
   "nbconvert_exporter": "python",
   "pygments_lexer": "ipython3",
   "version": "3.8.15"
  },
  "vscode": {
   "interpreter": {
    "hash": "25e045403bb4b931aa83e2688f506c95d8af9ef3f8039286a36344194d10efc1"
   }
  }
 },
 "nbformat": 4,
 "nbformat_minor": 5
}
