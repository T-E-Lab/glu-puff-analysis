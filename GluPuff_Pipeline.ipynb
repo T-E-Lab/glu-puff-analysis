{
 "cells": [
  {
   "cell_type": "markdown",
   "id": "92ed5f56-1c44-4419-9cf7-160c039c7d12",
   "metadata": {},
   "source": [
    "# Load the functions"
   ]
  },
  {
   "cell_type": "code",
   "execution_count": 29,
   "id": "fa54a6fc-baa2-452e-ba69-d6882bc7dc39",
   "metadata": {},
   "outputs": [],
   "source": [
    "import imganlys.ImagingPreProc as iPP\n",
    "import imganlys.BehavPreProc as bPP\n",
    "import os\n",
    "from os.path import sep, exists\n",
    "import tkinter as tk\n",
    "from tkinter import filedialog\n",
    "\n",
    "import numpy as np\n",
    "import pandas as pd\n",
    "import tifffile as tf\n",
    "import napari\n",
    "import cv2 as cv\n",
    "import pickle\n",
    "import re\n",
    "\n",
    "from matplotlib import pyplot as plt\n",
    "from matplotlib.patches import Polygon\n",
    "from matplotlib import transforms\n",
    "import matplotlib.patheffects as PathEffects\n",
    "import matplotlib\n",
    "from matplotlib import rcParams\n",
    "rcParams['pdf.fonttype'] = 42"
   ]
  },
  {
   "cell_type": "code",
   "execution_count": 30,
   "id": "86881618",
   "metadata": {},
   "outputs": [],
   "source": [
    "def DFoFfromfirstfms(rawF, fm_interval):\n",
    "    \"\"\" Calculate the DF/F given a raw fluorescence signal\n",
    "    The baseline fluorescence is the mean of first 10 seconds of florescence\n",
    "    Arguments:\n",
    "        rawF = raw fluorescence\n",
    "        fm_interval = frame interval aka time it takes to capture a frame\n",
    "    \"\"\"\n",
    "\n",
    "    # Initialize the array to hold the DF/F data\n",
    "    DF = np.zeros(rawF.shape)\n",
    "\n",
    "    # rawF axes: [frames, rois]\n",
    "    baseline_sec = 10\n",
    "    baseline_end_frame = round(baseline_sec / fm_interval)\n",
    "\n",
    "    # Calculate the DF/F for each ROI\n",
    "    for r in range(0,rawF.shape[1]):\n",
    "        Fbaseline = rawF[0:baseline_end_frame, r].mean()\n",
    "        DF[:,r] = rawF[:,r]/Fbaseline-1\n",
    "\n",
    "    \n",
    "    return DF"
   ]
  },
  {
   "cell_type": "markdown",
   "id": "638156a4-a1da-4d97-a859-558c62e432cf",
   "metadata": {},
   "source": [
    "# Get the trial info"
   ]
  },
  {
   "cell_type": "code",
   "execution_count": 36,
   "id": "1c4942ec",
   "metadata": {},
   "outputs": [],
   "source": [
    "### Load tiff files\n",
    "root = tk.Tk()\n",
    "root.withdraw()\n",
    "root.attributes('-topmost',1)\n",
    "\n",
    "trialfileNms = filedialog.askopenfilenames()"
   ]
  },
  {
   "cell_type": "code",
   "execution_count": 37,
   "metadata": {},
   "outputs": [
    {
     "name": "stdout",
     "output_type": "stream",
     "text": [
      "Z:/2PImaging/Kerstin/KaiRID_RNAi/tifs/20230207_6s-ss96-KaiRID-rnai_brain1_r1.tif\n",
      "0.3638535747555555\n",
      "\n",
      "Z:/2PImaging/Kerstin/KaiRID_RNAi/tifs/20230207_6s-ss96-KaiRID-rnai_brain1_r2.oif.files.tif\n",
      "0.3638535747555555\n",
      "\n",
      "Z:/2PImaging/Kerstin/KaiRID_RNAi/tifs/20230207_6s-ss96-KaiRID-rnai_brain1_r3.tif\n",
      "0.3638535747555555\n",
      "\n",
      "Z:/2PImaging/Kerstin/KaiRID_RNAi/tifs/20230207_6s-ss96-KaiRID-rnai_brain1_standard1.tif\n",
      "0.3633398052947942\n",
      "\n",
      "Z:/2PImaging/Kerstin/KaiRID_RNAi/tifs/20230207_6s-ss96-KaiRID-rnai_brain2_r1.tif\n",
      "0.36385804777845526\n",
      "\n",
      "Z:/2PImaging/Kerstin/KaiRID_RNAi/tifs/20230207_6s-ss96-KaiRID-rnai_brain2_r2.tif\n",
      "0.36385804777845526\n",
      "\n",
      "Z:/2PImaging/Kerstin/KaiRID_RNAi/tifs/20230207_6s-ss96-KaiRID-rnai_brain2_r3.tif\n",
      "0.370657200811359\n",
      "\n"
     ]
    }
   ],
   "source": [
    "### Check if frame interval metadata exists/ is called correctly\n",
    "\n",
    "for trial in trialfileNms:\n",
    "    with tf.TiffFile(trial) as tif:\n",
    "        imagej_metadata = tif.imagej_metadata\n",
    "        fm_interval = float(imagej_metadata.get(\"finterval\"))\n",
    "    print(trial)\n",
    "    print(fm_interval)\n",
    "    print()"
   ]
  },
  {
   "cell_type": "markdown",
   "id": "cec1b1b7-0dba-4402-bf2a-d8d2657b930a",
   "metadata": {},
   "source": [
    "# Process the data!"
   ]
  },
  {
   "cell_type": "code",
   "execution_count": 18,
   "id": "511385ea-e65a-479f-8228-7eb5a9f5e953",
   "metadata": {
    "scrolled": false
   },
   "outputs": [
    {
     "name": "stdout",
     "output_type": "stream",
     "text": [
      "Z:/2PImaging/Kerstin/KaiRID_RNAi/tifs/20230207_6s-ss96-KaiRID-rnai_brain1_standard1.tif\n",
      "stack shape: (1, 1637, 2, 256, 128)\n",
      "c:\\Users\\ahshenas\\Anaconda3\\envs\\glupuff\\lib\\site-packages\\napari\\layers\\base\\base.py:1632: RuntimeWarning: invalid value encountered in cast!\n",
      "c:\\Users\\ahshenas\\Anaconda3\\envs\\glupuff\\lib\\site-packages\\napari\\layers\\base\\base.py:1632: RuntimeWarning: invalid value encountered in cast!\n",
      "rawF.shape = (1637, 10)\n",
      "DF_G.shape = (1637, 10)\n"
     ]
    }
   ],
   "source": [
    "# fileNm = asksaveasfilename(title=\"Save Data as\")\n",
    "\n",
    "\n",
    "# for expt in trials.keys():\n",
    "#     # os.path.join(\"C:\", os.sep, \"Users\", \"Ali Shenasa\", \"Lab\", \"VT48352\", \"20190211\", \"Fly2_3days_7fxVT48352\")\n",
    "#     # '/Users/dante/Downloads/VT48352/20190211/Fly2_3days_7fxVT48352'\n",
    "#     if expt == os.path.join(\"C:\", os.sep, \"Users\", \"Ali Shenasa\", \"Lab\", \"VT48352\", \"20190211\", \"Fly2_3days_7fxVT48352\"):\n",
    "#         continue\n",
    "\n",
    "expt_dat = dict()\n",
    "for i, trial in enumerate(trialfileNms):\n",
    "    print(trial)\n",
    "\n",
    "    # Load the stack\n",
    "    [stack, nCh, nDiscardFBFrames, fpv] = iPP.loadTif(trial)\n",
    "    print(f\"stack shape: {stack.shape}\")\n",
    "\n",
    "    # Get frame interval (time between frames)\n",
    "    with tf.TiffFile(trial) as tif:\n",
    "        imagej_metadata = tif.imagej_metadata\n",
    "        fm_interval = float(imagej_metadata.get(\"finterval\"))\n",
    "\n",
    "\n",
    "    frameidx = 1 # index of stack shape with frames\n",
    "    ch = 0 # channel to be used\n",
    "\n",
    "    # Select the first channel\n",
    "    # Stack axes [Z?, frame, channel, X, Y]\n",
    "    stack = stack[:,:,ch:ch+1,:,:]\n",
    "\n",
    "    ### iPP.getROIs\n",
    "    mean_stack = stack.mean(axis=1) # Axis 0 is of length one so it just returns the whole stack\n",
    "    # Load the mean image in napari\n",
    "    viewer = napari.Viewer()\n",
    "    viewer.add_image(mean_stack)\n",
    "    if (i>0) and (len(rois) > 0):\n",
    "        # TODO if is a new brain, remove the old rois\n",
    "        #   If the dict for the date exists add the rois from that date to napari\n",
    "        viewer.add_shapes(rois, shape_type='Polygon', name = 'Shapes')\n",
    "    napari.run()\n",
    "\n",
    "    # Use the ROIs that were drawn in napari to get image masks\n",
    "    ### iPP.getPolyROIs\n",
    "    # Get the ROIs from napari\n",
    "    rois = viewer.layers['Shapes'].data\n",
    "\n",
    "    shape_x = stack.shape[3]\n",
    "    shape_y =  stack.shape[4]\n",
    "    all_masks = viewer.layers['Shapes'].to_masks(mask_shape=(shape_x,shape_y))\n",
    "\n",
    "\n",
    "    ### iPP.FfromROIs\n",
    "    # Initialize the array to hold the fluorescence data\n",
    "    rawF = np.zeros((stack.shape[frameidx],len(all_masks)))\n",
    "\n",
    "    # Step through each frame in the stack\n",
    "    for fm in range(0,stack.shape[frameidx]):\n",
    "        fmNow = stack[0,fm,ch,:,:]\n",
    "\n",
    "        # print(f\"fmNow.shape: {fmNow.shape}\")\n",
    "        # print(f\"all_masks.shape: {all_masks.shape}\")\n",
    "\n",
    "        # Find the sum of the fluorescence in each ROI for the given frame\n",
    "        for r in range(0,len(all_masks)):\n",
    "            rawF[fm,r] = np.multiply(fmNow, all_masks[r]).sum()\n",
    "\n",
    "    rawF_G = rawF\n",
    "\n",
    "    # Get the DF/F\n",
    "    DF_G = DFoFfromfirstfms(rawF_G, fm_interval)\n",
    "\n",
    "    print(f\"rawF.shape = {rawF.shape}\")\n",
    "    print(f\"DF_G.shape = {DF_G.shape}\")\n",
    "\n",
    "    # Save the processed data\n",
    "    expt_dat[trial] = {'trialName': trial,\n",
    "                        'stack_mean_G': np.squeeze(mean_stack),\n",
    "                        'rawF_G': rawF_G,\n",
    "                        'DF_G': DF_G,\n",
    "                        'all_masks': all_masks,\n",
    "                        'rois': rois,\n",
    "                        'fm_interval': fm_interval,\n",
    "                        }\n",
    "\n",
    "# iPP.saveDFDat(outfileNm, expt, expt_dat)"
   ]
  },
  {
   "cell_type": "markdown",
   "id": "eb6780eb-58e9-42c9-a7cf-8c7f841b63af",
   "metadata": {},
   "source": [
    "### Load the data"
   ]
  },
  {
   "cell_type": "code",
   "execution_count": 19,
   "id": "22d91c09-8673-4667-b19b-e4ab0e09d190",
   "metadata": {},
   "outputs": [],
   "source": [
    "allDat = expt_dat"
   ]
  },
  {
   "cell_type": "markdown",
   "id": "a2a3e47c-733e-435c-9c1a-5971c8ee8943",
   "metadata": {},
   "source": [
    "### Plot the Red and Green DF/F"
   ]
  },
  {
   "cell_type": "code",
   "execution_count": 20,
   "id": "a643d60e-eaf4-4d7f-b1a2-cdce5f03711c",
   "metadata": {},
   "outputs": [],
   "source": [
    "from matplotlib import cm\n",
    "from matplotlib.colors import ListedColormap, LinearSegmentedColormap\n",
    "\n",
    "# top = cm.get_cmap('Reds_r', 128)\n",
    "# bottom = cm.get_cmap('Greens', 128)\n",
    "\n",
    "# newcolors = np.vstack((top(np.linspace(0, 1, 128)),\n",
    "#                        bottom(np.linspace(0, 1, 128))))\n",
    "# newcmp = ListedColormap(newcolors, name='RedGreen')\n",
    "newcmp = 'PiYG'"
   ]
  },
  {
   "cell_type": "code",
   "execution_count": 21,
   "id": "c3a31332",
   "metadata": {},
   "outputs": [],
   "source": [
    "def incr_bbox(bounding_box, scale_factor):\n",
    "    \"\"\"Given a scale factor and an nparray with shape (2,2): [x or y, min or max]\n",
    "    Return a scaled bbox centered at the same spot\"\"\"\n",
    "    view_box = np.empty(shape=(2,2))\n",
    "    for dim in range(2):\n",
    "        for lim in range(2):\n",
    "            if lim == 0: # min\n",
    "                sign = -1\n",
    "            if lim == 1: # max\n",
    "                sign = 1\n",
    "            length = bounding_box[dim,1] - bounding_box[dim,0]\n",
    "            scale_amount = sign*(scale_factor-1)/2*length\n",
    "            view_box[dim,lim] = bounding_box[dim,lim] + scale_amount\n",
    "    return view_box\n",
    "    "
   ]
  },
  {
   "cell_type": "code",
   "execution_count": 22,
   "id": "15605fc2",
   "metadata": {},
   "outputs": [],
   "source": [
    "def get_bbox(rois, scale_factor=1.5):\n",
    "    \"\"\"Given a list of rois, return a bounding box, a scale factor of 1 is a tight box\"\"\"\n",
    "    xcol = 2\n",
    "    ycol = 3\n",
    "    # roi_bound axes: [roi, x or y, min or max]\n",
    "    roi_bounds = np.empty(shape=(len(rois),2,2))\n",
    "\n",
    "    # Get min and max for each roi x and y\n",
    "    for j,r in enumerate(rois):\n",
    "        roi_bounds[j][0][0], roi_bounds[j][1][0] = r.min(axis=0)[xcol:ycol+1]\n",
    "        roi_bounds[j][0][1], roi_bounds[j][1][1] = r.max(axis=0)[xcol:ycol+1]\n",
    "\n",
    "    # Get the coords for the bounding box, using upper left corner to lower right\n",
    "    # bounding_box axes: [x or y, min or max]\n",
    "    bounding_box = np.empty(shape=(2,2))\n",
    "    bounding_box[:,0] = roi_bounds[:,:,0].min(axis=0)\n",
    "    bounding_box[:,1] = roi_bounds[:,:,1].max(axis=0)\n",
    "\n",
    "    # Create a larger bounding box to not cut off parts of the PB\n",
    "    view_box = incr_bbox(bounding_box, scale_factor)\n",
    "    return view_box\n"
   ]
  },
  {
   "cell_type": "code",
   "execution_count": 23,
   "id": "3537a4db",
   "metadata": {},
   "outputs": [],
   "source": [
    "def plot_colorbar(fig, cbaraxes, F_plot, F_lims, cbarlabel):\n",
    "    \"\"\"Plot the colorbar for the given F_plot\"\"\"\n",
    "    # Plot colorbar\n",
    "    cbar_ax = fig.add_axes(cbaraxes)\n",
    "    cbar = fig.colorbar(F_plot,cax=cbar_ax)\n",
    "    cbar.set_ticks(F_lims)\n",
    "    if (F_lims[0] > 10**2) or (F_lims[1] > 10**2):\n",
    "        F_lims_str = [f\"{lim:g}\" for lim in F_lims]\n",
    "    else:\n",
    "        F_lims_str = [f\"{lim:.2f}\" for lim in F_lims]\n",
    "    cbar.ax.set_yticklabels(F_lims_str)\n",
    "    cbar.set_label(cbarlabel, labelpad = -25)"
   ]
  },
  {
   "cell_type": "code",
   "execution_count": 24,
   "id": "438d8b4a",
   "metadata": {},
   "outputs": [],
   "source": [
    "def plot_florescence(F, panel, cmap, aspect, F_lims, roi_num, fm_interval, withcbar = False, fig=None, cbaraxes=None, cbarlabel=None):\n",
    "    \"\"\"Plot the florescence of F\n",
    "    if with cbar is true, need to provide fig, and axes of cbar\"\"\"\n",
    "    # Plot florescence\n",
    "    F_plot = panel.imshow(F, cmap = cmap, interpolation='nearest', \n",
    "                                    aspect = aspect, vmin = F_lims[0], vmax = F_lims[1])\n",
    "    # panel.title.set_text(title)\n",
    "    num_frames = F.shape[1]\n",
    "    ticks = [int(sec/fm_interval) for sec in np.arange(0, num_frames*fm_interval, 10)]\n",
    "    panel.set_xlabel(\"sec\", labelpad = 0)\n",
    "    panel.set_xticks([int(sec/fm_interval) for sec in np.arange(0, num_frames*fm_interval, 5)],\n",
    "                     [f\"{sec:.0f}\" if sec%2==0 else \"\" for sec in np.arange(0, num_frames*fm_interval, 5)])\n",
    "    panel.set_ylabel(\"ROI\", labelpad = -2)\n",
    "    panel.set_yticks([i for i in range(roi_num) if i%2 == 0],\n",
    "                     [i+1 for i in range(roi_num) if i%2 == 0])\n",
    "    # Plot colorbar\n",
    "    if withcbar:\n",
    "        plot_colorbar(fig, cbaraxes, F_plot, F_lims, cbarlabel)"
   ]
  },
  {
   "cell_type": "markdown",
   "id": "57bebd4c",
   "metadata": {},
   "source": [
    "Note: Plotting fails if trial is too long, maximum length is 18 minutes"
   ]
  },
  {
   "cell_type": "code",
   "execution_count": 25,
   "metadata": {},
   "outputs": [],
   "source": [
    "### Get folder to save plots in\n",
    "outfolder = filedialog.askdirectory ()"
   ]
  },
  {
   "cell_type": "code",
   "execution_count": 26,
   "id": "60264f6d-c431-47bd-8039-43dd650ae54a",
   "metadata": {},
   "outputs": [],
   "source": [
    "plt.rcParams['svg.fonttype'] = 'none'\n",
    "\n",
    "\n",
    "for i,trial in enumerate(allDat.values()):\n",
    "\n",
    "    [xlength_DF, ylength_DF] = trial['DF_G'].shape\n",
    "    # x and y limits of the roi\n",
    "    view_box = get_bbox(trial['rois'], scale_factor=1.5)\n",
    "    xlength_ROI = abs(view_box[1][1]-view_box[1][0])\n",
    "    ylength_ROI = abs(view_box[0][1]-view_box[0][0])\n",
    "    \n",
    "    if trial['DF_G'].shape[0] > 1500:\n",
    "        aspect = 12\n",
    "    elif trial['DF_G'].shape[0] > 500:\n",
    "        aspect = int(0.008 * trial['DF_G'].shape[0])\n",
    "    else:\n",
    "        aspect = 4\n",
    "\n",
    "    # Figure size parameters\n",
    "    spacing = 0.5\n",
    "    panelMainHeight = 2.4\n",
    "    panelMainWidth = panelMainHeight*xlength_DF/(ylength_DF*aspect) # Define in terms of DF/F shape\n",
    "    cbarWidth = 0.1\n",
    "    panelROIHeight = spacing+2*panelMainHeight\n",
    "    panelROIWidth = panelROIHeight*xlength_ROI/ylength_ROI # Define in terms of ROI aspect ratio\n",
    "\n",
    "    # Define figure in terms of panel dimensions and spacing\n",
    "    figureWidth = (1+0.2+1.2+1)*spacing+panelMainWidth+cbarWidth+panelROIWidth\n",
    "    figureHeight = (1+1+2)*spacing+2*panelMainHeight\n",
    "\n",
    "    # Figure layout paramaters\n",
    "    main_x = spacing/figureWidth\n",
    "    cbar_x = main_x + (0.2*spacing+panelMainWidth)/figureWidth\n",
    "    roi_x = cbar_x + (1.2*spacing+cbarWidth)/figureWidth\n",
    "    title_x = 0.5\n",
    "\n",
    "    DF_y = spacing/figureHeight\n",
    "    rawF_y = DF_y + (spacing+panelMainHeight)/figureHeight\n",
    "    title_y = rawF_y + (spacing+panelMainHeight)/figureHeight\n",
    "\n",
    "\n",
    "    # Create figure\n",
    "    fig = plt.figure(figsize=(figureWidth,figureHeight))\n",
    "    panel_DF = plt.axes([main_x, \n",
    "                            DF_y, \n",
    "                            panelMainWidth/figureWidth,\n",
    "                            panelMainHeight/figureHeight])\n",
    "    panel_rawF = plt.axes([main_x,\n",
    "                            rawF_y,\n",
    "                            panelMainWidth/figureWidth,\n",
    "                            panelMainHeight/figureHeight])\n",
    "    panel_ROI = plt.axes([roi_x, \n",
    "                            DF_y, \n",
    "                            panelROIWidth/figureWidth, \n",
    "                            panelROIHeight/figureHeight])\n",
    "    cmap = newcmp\n",
    "\n",
    "    # Define limits and title/filename\n",
    "    DF_lims = [np.amin(trial['DF_G']), np.amax(trial['DF_G'])]\n",
    "    rawF_lims = [np.amin(trial['rawF_G']), np.amax(trial['rawF_G'])]\n",
    "    roi_num = trial['DF_G'].shape[1]\n",
    "    title = re.split(r'\\\\|/', trial['trialName'])[-1].split('.')[0]\n",
    "\n",
    "    #Plot RawF with colorbar\n",
    "    rawF_cbaraxes = [cbar_x,\n",
    "                        rawF_y,\n",
    "                        cbarWidth/figureWidth,\n",
    "                        panelMainHeight/figureHeight]\n",
    "    plot_florescence(trial['rawF_G'].T, panel_rawF, cmap, aspect, rawF_lims, roi_num, trial['fm_interval'],\n",
    "                        withcbar = True, fig=fig, cbaraxes=rawF_cbaraxes, cbarlabel='rawF')\n",
    "\n",
    "    # panel_ROI.annotate('', xy=(main_x, rawF_y), xycoords='figure fraction', xytext=(main_x+(panelMainWidth/figureWidth), rawF_y+(panelMainHeight)/figureHeight),\n",
    "    # arrowprops=dict(arrowstyle=\"<->\", color='r'))\n",
    "\n",
    "    #Plot DF/F\n",
    "    DF_cbaraxes = [cbar_x,\n",
    "                    DF_y,\n",
    "                    cbarWidth/figureWidth,\n",
    "                    panelMainHeight/figureHeight]\n",
    "    plot_florescence(trial['DF_G'].T, panel_DF, cmap, aspect, DF_lims, roi_num, trial['fm_interval'],\n",
    "                        withcbar = True, fig=fig, cbaraxes=DF_cbaraxes, cbarlabel='DF/F')\n",
    "\n",
    "    # panel_ROI.annotate('', xy=(main_x, DF_y), xycoords='figure fraction', xytext=(main_x+(panelMainWidth/figureWidth), DF_y+(panelMainHeight)/figureHeight),\n",
    "    # arrowprops=dict(arrowstyle=\"<->\", color='r'))\n",
    "\n",
    "    #Plot ROI\n",
    "    panel_ROI.imshow(trial['stack_mean_G'])\n",
    "    panel_ROI.axis('off')\n",
    "    for j,r in enumerate(trial['rois']):\n",
    "        xidx = 2\n",
    "        yidx = 3\n",
    "        panel_ROI.add_patch(Polygon([[pt[yidx],pt[xidx]] for pt in r], closed=True,fill=False, edgecolor = (1,1,1,0.5)))\n",
    "        panel_ROI.text(r[:,yidx].mean(), r[:,xidx].mean(),str(j+1),dict(ha='center', va='center', fontsize=5, color='w'))\n",
    "    \n",
    "    panel_ROI.set_xlim(view_box[1])\n",
    "    panel_ROI.set_ylim(np.flip(view_box[0]))\n",
    "    panel_ROI.set_title(\"ROI's\")\n",
    "\n",
    "    # panel_ROI.annotate('', xy=(roi_x, DF_y), xycoords='figure fraction', xytext=(roi_x+(panelROIWidth/figureWidth), DF_y+(panelROIHeight)/figureHeight),\n",
    "    # arrowprops=dict(arrowstyle=\"<->\", color='r'))\n",
    "\n",
    "    fig.text(title_x, title_y, title, fontsize=15, va='center', ha='center')\n",
    "    # print(title)\n",
    "\n",
    "    fig.savefig(outfolder + \"/\" + title + '.png', dpi=600)\n",
    "    plt.close(fig)"
   ]
  },
  {
   "cell_type": "code",
   "execution_count": 27,
   "metadata": {},
   "outputs": [
    {
     "name": "stdout",
     "output_type": "stream",
     "text": [
      "dict_keys(['Z:/2PImaging/Kerstin/KaiRID_RNAi/tifs/20230207_6s-ss96-KaiRID-rnai_brain1_standard1.tif'])\n"
     ]
    }
   ],
   "source": [
    "print(allDat.keys())"
   ]
  },
  {
   "cell_type": "code",
   "execution_count": 28,
   "metadata": {},
   "outputs": [
    {
     "name": "stdout",
     "output_type": "stream",
     "text": [
      "C:/Users/ahshenas/Lab/mockglupuffdata/testfolder20230207_6s-ss96-KaiRID-rnai_brain1_standard1.png\n"
     ]
    }
   ],
   "source": [
    "print(outfolder + title + '.png')"
   ]
  }
 ],
 "metadata": {
  "kernelspec": {
   "display_name": "Python 3 (ipykernel)",
   "language": "python",
   "name": "python3"
  },
  "language_info": {
   "codemirror_mode": {
    "name": "ipython",
    "version": 3
   },
   "file_extension": ".py",
   "mimetype": "text/x-python",
   "name": "python",
   "nbconvert_exporter": "python",
   "pygments_lexer": "ipython3",
   "version": "3.8.15"
  },
  "vscode": {
   "interpreter": {
    "hash": "25e045403bb4b931aa83e2688f506c95d8af9ef3f8039286a36344194d10efc1"
   }
  }
 },
 "nbformat": 4,
 "nbformat_minor": 2
}
